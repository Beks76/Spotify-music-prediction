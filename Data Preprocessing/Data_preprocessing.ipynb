{
 "cells": [
  {
   "cell_type": "markdown",
   "id": "unnecessary-consideration",
   "metadata": {},
   "source": [
    "<img src='data:image/png;base64,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'>"
   ]
  },
  {
   "cell_type": "markdown",
   "id": "lovely-organization",
   "metadata": {},
   "source": [
    "Goal: Predict the popularity of a song"
   ]
  },
  {
   "cell_type": "markdown",
   "id": "rising-edwards",
   "metadata": {},
   "source": [
    "## Import libaries and Read data"
   ]
  },
  {
   "cell_type": "code",
   "execution_count": 18,
   "id": "innovative-federation",
   "metadata": {},
   "outputs": [],
   "source": [
    "import pandas as pd\n",
    "import numpy as np\n",
    "import matplotlib.pyplot as plt\n",
    "import pickle"
   ]
  },
  {
   "cell_type": "code",
   "execution_count": 6,
   "id": "facial-april",
   "metadata": {},
   "outputs": [],
   "source": [
    "pd.set_option('display.max_columns', None)"
   ]
  },
  {
   "cell_type": "code",
   "execution_count": 81,
   "id": "cheap-advantage",
   "metadata": {},
   "outputs": [
    {
     "name": "stdout",
     "output_type": "stream",
     "text": [
      "Dataset shape - (32833, 23)\n"
     ]
    },
    {
     "data": {
      "text/html": [
       "<div>\n",
       "<style scoped>\n",
       "    .dataframe tbody tr th:only-of-type {\n",
       "        vertical-align: middle;\n",
       "    }\n",
       "\n",
       "    .dataframe tbody tr th {\n",
       "        vertical-align: top;\n",
       "    }\n",
       "\n",
       "    .dataframe thead th {\n",
       "        text-align: right;\n",
       "    }\n",
       "</style>\n",
       "<table border=\"1\" class=\"dataframe\">\n",
       "  <thead>\n",
       "    <tr style=\"text-align: right;\">\n",
       "      <th></th>\n",
       "      <th>track_id</th>\n",
       "      <th>track_name</th>\n",
       "      <th>track_artist</th>\n",
       "      <th>track_popularity</th>\n",
       "      <th>track_album_id</th>\n",
       "      <th>track_album_name</th>\n",
       "      <th>track_album_release_date</th>\n",
       "      <th>playlist_name</th>\n",
       "      <th>playlist_id</th>\n",
       "      <th>playlist_genre</th>\n",
       "      <th>playlist_subgenre</th>\n",
       "      <th>danceability</th>\n",
       "      <th>energy</th>\n",
       "      <th>key</th>\n",
       "      <th>loudness</th>\n",
       "      <th>mode</th>\n",
       "      <th>speechiness</th>\n",
       "      <th>acousticness</th>\n",
       "      <th>instrumentalness</th>\n",
       "      <th>liveness</th>\n",
       "      <th>valence</th>\n",
       "      <th>tempo</th>\n",
       "      <th>duration_ms</th>\n",
       "    </tr>\n",
       "  </thead>\n",
       "  <tbody>\n",
       "    <tr>\n",
       "      <th>0</th>\n",
       "      <td>6f807x0ima9a1j3VPbc7VN</td>\n",
       "      <td>I Don't Care (with Justin Bieber) - Loud Luxur...</td>\n",
       "      <td>Ed Sheeran</td>\n",
       "      <td>66</td>\n",
       "      <td>2oCs0DGTsRO98Gh5ZSl2Cx</td>\n",
       "      <td>I Don't Care (with Justin Bieber) [Loud Luxury...</td>\n",
       "      <td>2019-06-14</td>\n",
       "      <td>Pop Remix</td>\n",
       "      <td>37i9dQZF1DXcZDD7cfEKhW</td>\n",
       "      <td>pop</td>\n",
       "      <td>dance pop</td>\n",
       "      <td>0.748</td>\n",
       "      <td>0.916</td>\n",
       "      <td>6</td>\n",
       "      <td>-2.634</td>\n",
       "      <td>1</td>\n",
       "      <td>0.0583</td>\n",
       "      <td>0.1020</td>\n",
       "      <td>0.000000</td>\n",
       "      <td>0.0653</td>\n",
       "      <td>0.518</td>\n",
       "      <td>122.036</td>\n",
       "      <td>194754</td>\n",
       "    </tr>\n",
       "    <tr>\n",
       "      <th>1</th>\n",
       "      <td>0r7CVbZTWZgbTCYdfa2P31</td>\n",
       "      <td>Memories - Dillon Francis Remix</td>\n",
       "      <td>Maroon 5</td>\n",
       "      <td>67</td>\n",
       "      <td>63rPSO264uRjW1X5E6cWv6</td>\n",
       "      <td>Memories (Dillon Francis Remix)</td>\n",
       "      <td>2019-12-13</td>\n",
       "      <td>Pop Remix</td>\n",
       "      <td>37i9dQZF1DXcZDD7cfEKhW</td>\n",
       "      <td>pop</td>\n",
       "      <td>dance pop</td>\n",
       "      <td>0.726</td>\n",
       "      <td>0.815</td>\n",
       "      <td>11</td>\n",
       "      <td>-4.969</td>\n",
       "      <td>1</td>\n",
       "      <td>0.0373</td>\n",
       "      <td>0.0724</td>\n",
       "      <td>0.004210</td>\n",
       "      <td>0.3570</td>\n",
       "      <td>0.693</td>\n",
       "      <td>99.972</td>\n",
       "      <td>162600</td>\n",
       "    </tr>\n",
       "    <tr>\n",
       "      <th>2</th>\n",
       "      <td>1z1Hg7Vb0AhHDiEmnDE79l</td>\n",
       "      <td>All the Time - Don Diablo Remix</td>\n",
       "      <td>Zara Larsson</td>\n",
       "      <td>70</td>\n",
       "      <td>1HoSmj2eLcsrR0vE9gThr4</td>\n",
       "      <td>All the Time (Don Diablo Remix)</td>\n",
       "      <td>2019-07-05</td>\n",
       "      <td>Pop Remix</td>\n",
       "      <td>37i9dQZF1DXcZDD7cfEKhW</td>\n",
       "      <td>pop</td>\n",
       "      <td>dance pop</td>\n",
       "      <td>0.675</td>\n",
       "      <td>0.931</td>\n",
       "      <td>1</td>\n",
       "      <td>-3.432</td>\n",
       "      <td>0</td>\n",
       "      <td>0.0742</td>\n",
       "      <td>0.0794</td>\n",
       "      <td>0.000023</td>\n",
       "      <td>0.1100</td>\n",
       "      <td>0.613</td>\n",
       "      <td>124.008</td>\n",
       "      <td>176616</td>\n",
       "    </tr>\n",
       "    <tr>\n",
       "      <th>3</th>\n",
       "      <td>75FpbthrwQmzHlBJLuGdC7</td>\n",
       "      <td>Call You Mine - Keanu Silva Remix</td>\n",
       "      <td>The Chainsmokers</td>\n",
       "      <td>60</td>\n",
       "      <td>1nqYsOef1yKKuGOVchbsk6</td>\n",
       "      <td>Call You Mine - The Remixes</td>\n",
       "      <td>2019-07-19</td>\n",
       "      <td>Pop Remix</td>\n",
       "      <td>37i9dQZF1DXcZDD7cfEKhW</td>\n",
       "      <td>pop</td>\n",
       "      <td>dance pop</td>\n",
       "      <td>0.718</td>\n",
       "      <td>0.930</td>\n",
       "      <td>7</td>\n",
       "      <td>-3.778</td>\n",
       "      <td>1</td>\n",
       "      <td>0.1020</td>\n",
       "      <td>0.0287</td>\n",
       "      <td>0.000009</td>\n",
       "      <td>0.2040</td>\n",
       "      <td>0.277</td>\n",
       "      <td>121.956</td>\n",
       "      <td>169093</td>\n",
       "    </tr>\n",
       "    <tr>\n",
       "      <th>4</th>\n",
       "      <td>1e8PAfcKUYoKkxPhrHqw4x</td>\n",
       "      <td>Someone You Loved - Future Humans Remix</td>\n",
       "      <td>Lewis Capaldi</td>\n",
       "      <td>69</td>\n",
       "      <td>7m7vv9wlQ4i0LFuJiE2zsQ</td>\n",
       "      <td>Someone You Loved (Future Humans Remix)</td>\n",
       "      <td>2019-03-05</td>\n",
       "      <td>Pop Remix</td>\n",
       "      <td>37i9dQZF1DXcZDD7cfEKhW</td>\n",
       "      <td>pop</td>\n",
       "      <td>dance pop</td>\n",
       "      <td>0.650</td>\n",
       "      <td>0.833</td>\n",
       "      <td>1</td>\n",
       "      <td>-4.672</td>\n",
       "      <td>1</td>\n",
       "      <td>0.0359</td>\n",
       "      <td>0.0803</td>\n",
       "      <td>0.000000</td>\n",
       "      <td>0.0833</td>\n",
       "      <td>0.725</td>\n",
       "      <td>123.976</td>\n",
       "      <td>189052</td>\n",
       "    </tr>\n",
       "  </tbody>\n",
       "</table>\n",
       "</div>"
      ],
      "text/plain": [
       "                 track_id                                         track_name  \\\n",
       "0  6f807x0ima9a1j3VPbc7VN  I Don't Care (with Justin Bieber) - Loud Luxur...   \n",
       "1  0r7CVbZTWZgbTCYdfa2P31                    Memories - Dillon Francis Remix   \n",
       "2  1z1Hg7Vb0AhHDiEmnDE79l                    All the Time - Don Diablo Remix   \n",
       "3  75FpbthrwQmzHlBJLuGdC7                  Call You Mine - Keanu Silva Remix   \n",
       "4  1e8PAfcKUYoKkxPhrHqw4x            Someone You Loved - Future Humans Remix   \n",
       "\n",
       "       track_artist  track_popularity          track_album_id  \\\n",
       "0        Ed Sheeran                66  2oCs0DGTsRO98Gh5ZSl2Cx   \n",
       "1          Maroon 5                67  63rPSO264uRjW1X5E6cWv6   \n",
       "2      Zara Larsson                70  1HoSmj2eLcsrR0vE9gThr4   \n",
       "3  The Chainsmokers                60  1nqYsOef1yKKuGOVchbsk6   \n",
       "4     Lewis Capaldi                69  7m7vv9wlQ4i0LFuJiE2zsQ   \n",
       "\n",
       "                                    track_album_name track_album_release_date  \\\n",
       "0  I Don't Care (with Justin Bieber) [Loud Luxury...               2019-06-14   \n",
       "1                    Memories (Dillon Francis Remix)               2019-12-13   \n",
       "2                    All the Time (Don Diablo Remix)               2019-07-05   \n",
       "3                        Call You Mine - The Remixes               2019-07-19   \n",
       "4            Someone You Loved (Future Humans Remix)               2019-03-05   \n",
       "\n",
       "  playlist_name             playlist_id playlist_genre playlist_subgenre  \\\n",
       "0     Pop Remix  37i9dQZF1DXcZDD7cfEKhW            pop         dance pop   \n",
       "1     Pop Remix  37i9dQZF1DXcZDD7cfEKhW            pop         dance pop   \n",
       "2     Pop Remix  37i9dQZF1DXcZDD7cfEKhW            pop         dance pop   \n",
       "3     Pop Remix  37i9dQZF1DXcZDD7cfEKhW            pop         dance pop   \n",
       "4     Pop Remix  37i9dQZF1DXcZDD7cfEKhW            pop         dance pop   \n",
       "\n",
       "   danceability  energy  key  loudness  mode  speechiness  acousticness  \\\n",
       "0         0.748   0.916    6    -2.634     1       0.0583        0.1020   \n",
       "1         0.726   0.815   11    -4.969     1       0.0373        0.0724   \n",
       "2         0.675   0.931    1    -3.432     0       0.0742        0.0794   \n",
       "3         0.718   0.930    7    -3.778     1       0.1020        0.0287   \n",
       "4         0.650   0.833    1    -4.672     1       0.0359        0.0803   \n",
       "\n",
       "   instrumentalness  liveness  valence    tempo  duration_ms  \n",
       "0          0.000000    0.0653    0.518  122.036       194754  \n",
       "1          0.004210    0.3570    0.693   99.972       162600  \n",
       "2          0.000023    0.1100    0.613  124.008       176616  \n",
       "3          0.000009    0.2040    0.277  121.956       169093  \n",
       "4          0.000000    0.0833    0.725  123.976       189052  "
      ]
     },
     "execution_count": 81,
     "metadata": {},
     "output_type": "execute_result"
    }
   ],
   "source": [
    "dataset = pd.read_csv('data/spotify.csv')\n",
    "print(f\"Dataset shape - {dataset.shape}\")\n",
    "dataset.head()"
   ]
  },
  {
   "cell_type": "code",
   "execution_count": 82,
   "id": "attended-switzerland",
   "metadata": {},
   "outputs": [
    {
     "name": "stdout",
     "output_type": "stream",
     "text": [
      "<class 'pandas.core.frame.DataFrame'>\n",
      "RangeIndex: 32833 entries, 0 to 32832\n",
      "Data columns (total 23 columns):\n",
      " #   Column                    Non-Null Count  Dtype  \n",
      "---  ------                    --------------  -----  \n",
      " 0   track_id                  32833 non-null  object \n",
      " 1   track_name                32828 non-null  object \n",
      " 2   track_artist              32828 non-null  object \n",
      " 3   track_popularity          32833 non-null  int64  \n",
      " 4   track_album_id            32833 non-null  object \n",
      " 5   track_album_name          32828 non-null  object \n",
      " 6   track_album_release_date  32833 non-null  object \n",
      " 7   playlist_name             32833 non-null  object \n",
      " 8   playlist_id               32833 non-null  object \n",
      " 9   playlist_genre            32833 non-null  object \n",
      " 10  playlist_subgenre         32833 non-null  object \n",
      " 11  danceability              32833 non-null  float64\n",
      " 12  energy                    32833 non-null  float64\n",
      " 13  key                       32833 non-null  int64  \n",
      " 14  loudness                  32833 non-null  float64\n",
      " 15  mode                      32833 non-null  int64  \n",
      " 16  speechiness               32833 non-null  float64\n",
      " 17  acousticness              32833 non-null  float64\n",
      " 18  instrumentalness          32833 non-null  float64\n",
      " 19  liveness                  32833 non-null  float64\n",
      " 20  valence                   32833 non-null  float64\n",
      " 21  tempo                     32833 non-null  float64\n",
      " 22  duration_ms               32833 non-null  int64  \n",
      "dtypes: float64(9), int64(4), object(10)\n",
      "memory usage: 5.8+ MB\n"
     ]
    }
   ],
   "source": [
    "dataset.info()"
   ]
  },
  {
   "cell_type": "code",
   "execution_count": 83,
   "id": "indonesian-framework",
   "metadata": {},
   "outputs": [
    {
     "data": {
      "text/plain": [
       "track_id                    0\n",
       "track_name                  5\n",
       "track_artist                5\n",
       "track_popularity            0\n",
       "track_album_id              0\n",
       "track_album_name            5\n",
       "track_album_release_date    0\n",
       "playlist_name               0\n",
       "playlist_id                 0\n",
       "playlist_genre              0\n",
       "playlist_subgenre           0\n",
       "danceability                0\n",
       "energy                      0\n",
       "key                         0\n",
       "loudness                    0\n",
       "mode                        0\n",
       "speechiness                 0\n",
       "acousticness                0\n",
       "instrumentalness            0\n",
       "liveness                    0\n",
       "valence                     0\n",
       "tempo                       0\n",
       "duration_ms                 0\n",
       "dtype: int64"
      ]
     },
     "execution_count": 83,
     "metadata": {},
     "output_type": "execute_result"
    }
   ],
   "source": [
    "dataset.isna().sum()"
   ]
  },
  {
   "cell_type": "markdown",
   "id": "juvenile-catering",
   "metadata": {},
   "source": [
    "Our dataset consist miss values, I'll drop it."
   ]
  },
  {
   "cell_type": "markdown",
   "id": "photographic-brook",
   "metadata": {},
   "source": [
    "## Data preprocessing"
   ]
  },
  {
   "cell_type": "code",
   "execution_count": 89,
   "id": "mature-great",
   "metadata": {},
   "outputs": [],
   "source": [
    "from sklearn.preprocessing import StandardScaler, OneHotEncoder\n",
    "from sklearn.compose import make_column_transformer\n",
    "from sklearn.model_selection import GroupShuffleSplit"
   ]
  },
  {
   "cell_type": "code",
   "execution_count": 85,
   "id": "practical-sharing",
   "metadata": {},
   "outputs": [],
   "source": [
    "dataset.dropna(inplace=True)"
   ]
  },
  {
   "cell_type": "code",
   "execution_count": 86,
   "id": "communist-search",
   "metadata": {},
   "outputs": [],
   "source": [
    "X = dataset.copy()\n",
    "y = X.pop('track_popularity')\n",
    "\n",
    "artists = X['track_artist']"
   ]
  },
  {
   "cell_type": "code",
   "execution_count": 87,
   "id": "adequate-knife",
   "metadata": {},
   "outputs": [],
   "source": [
    "numeric = ['danceability', 'energy', 'key', 'loudness', 'mode',\n",
    "                'speechiness', 'acousticness', 'instrumentalness',\n",
    "                'liveness', 'valence', 'tempo', 'duration_ms']\n",
    "categorical = ['playlist_genre']"
   ]
  },
  {
   "cell_type": "code",
   "execution_count": 92,
   "id": "continent-effort",
   "metadata": {},
   "outputs": [],
   "source": [
    "preprocessor = make_column_transformer(\n",
    "    (StandardScaler(), numeric),\n",
    "    (OneHotEncoder(), categorical),\n",
    ")"
   ]
  },
  {
   "cell_type": "code",
   "execution_count": 93,
   "id": "mobile-roller",
   "metadata": {},
   "outputs": [],
   "source": [
    "def group_split(X, y, group, train_size=0.75):\n",
    "    splitter = GroupShuffleSplit(train_size=train_size)\n",
    "    train, test = next(splitter.split(X, y, groups=group))\n",
    "    return (X.iloc[train], X.iloc[test], y.iloc[train], y.iloc[test])"
   ]
  },
  {
   "cell_type": "code",
   "execution_count": 99,
   "id": "english-denial",
   "metadata": {},
   "outputs": [
    {
     "data": {
      "text/plain": [
       "((24108, 18), (24108,), (8720, 18), (8720,))"
      ]
     },
     "execution_count": 99,
     "metadata": {},
     "output_type": "execute_result"
    }
   ],
   "source": [
    "X_train, X_test, y_train, y_test = group_split(X, y, artists)\n",
    "\n",
    "X_train = preprocessor.fit_transform(X_train)\n",
    "X_test = preprocessor.transform(X_test)\n",
    "y_train = y_train / 100 \n",
    "y_test = y_test / 100\n",
    "\n",
    "X_train.shape, y_train.shape, X_test.shape, y_test.shape"
   ]
  },
  {
   "cell_type": "code",
   "execution_count": 136,
   "id": "floating-shelter",
   "metadata": {},
   "outputs": [],
   "source": [
    "train = np.concatenate([X_train, y_train.values.reshape(-1, 1)], axis=1)\n",
    "test = np.concatenate([X_test, y_test.values.reshape(-1, 1)], axis=1)"
   ]
  },
  {
   "cell_type": "code",
   "execution_count": null,
   "id": "recorded-proposition",
   "metadata": {},
   "outputs": [],
   "source": [
    "with open('train.pkl','wb') as f:\n",
    "    pickle.dump(train, f)\n",
    "    \n",
    "with open('test.pkl','wb') as f:\n",
    "    pickle.dump(test, f)"
   ]
  }
 ],
 "metadata": {
  "kernelspec": {
   "display_name": "Python 3",
   "language": "python",
   "name": "python3"
  },
  "language_info": {
   "codemirror_mode": {
    "name": "ipython",
    "version": 3
   },
   "file_extension": ".py",
   "mimetype": "text/x-python",
   "name": "python",
   "nbconvert_exporter": "python",
   "pygments_lexer": "ipython3",
   "version": "3.7.7"
  }
 },
 "nbformat": 4,
 "nbformat_minor": 5
}
