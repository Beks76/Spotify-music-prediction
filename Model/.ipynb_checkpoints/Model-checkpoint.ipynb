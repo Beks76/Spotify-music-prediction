{
 "cells": [
  {
   "cell_type": "markdown",
   "id": "disturbed-sensitivity",
   "metadata": {},
   "source": [
    "<img src='data:image/png;base64,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'>"
   ]
  },
  {
   "cell_type": "code",
   "execution_count": 19,
   "id": "modular-alloy",
   "metadata": {},
   "outputs": [],
   "source": [
    "import pickle\n",
    "import pandas as pd\n",
    "\n",
    "import tensorflow as tf\n",
    "from tensorflow import keras\n",
    "from tensorflow.keras import layers\n",
    "from tensorflow.keras import callbacks"
   ]
  },
  {
   "cell_type": "markdown",
   "id": "mature-pavilion",
   "metadata": {},
   "source": [
    "## Read data"
   ]
  },
  {
   "cell_type": "code",
   "execution_count": 4,
   "id": "after-black",
   "metadata": {},
   "outputs": [
    {
     "name": "stdout",
     "output_type": "stream",
     "text": [
      "(8720, 19)\n",
      "(24108, 19)\n"
     ]
    }
   ],
   "source": [
    "with open('../data/test.pkl','rb') as f:\n",
    "    test = pickle.load(f)\n",
    "    print(test.shape)\n",
    "    \n",
    "with open('../data/train.pkl','rb') as f:\n",
    "    train = pickle.load(f)\n",
    "    print(train.shape)"
   ]
  },
  {
   "cell_type": "code",
   "execution_count": 8,
   "id": "received-audit",
   "metadata": {},
   "outputs": [
    {
     "data": {
      "text/plain": [
       "((24108, 18), (24108,), (8720, 18), (8720,))"
      ]
     },
     "execution_count": 8,
     "metadata": {},
     "output_type": "execute_result"
    }
   ],
   "source": [
    "X_train, y_train = train[:, :18], train[:, 18]\n",
    "X_test, y_test = test[:, :18], test[:, 18]\n",
    "\n",
    "X_train.shape, y_train.shape, X_test.shape, y_test.shape"
   ]
  },
  {
   "cell_type": "markdown",
   "id": "aware-vaccine",
   "metadata": {},
   "source": [
    "## Model"
   ]
  },
  {
   "cell_type": "markdown",
   "id": "satisfactory-invitation",
   "metadata": {},
   "source": [
    "For now my aim to get at least 75% accuracy"
   ]
  },
  {
   "cell_type": "code",
   "execution_count": 28,
   "id": "certified-discount",
   "metadata": {},
   "outputs": [],
   "source": [
    "ACCURACY_THRESHOLD = 0.75\n",
    "class myCallback(tf.keras.callbacks.Callback):\n",
    "    def on_epoch_end(self, epoch, logs = {}):\n",
    "        if logs.get('acc') is not None and logs.get('acc') >= ACCURACY_THRESHOLD:\n",
    "            print(f\"Reached {ACCURACY_THRESHOLD * 100}% accuracy, so cancelling training!\")\n",
    "            self.model.stop_training = True\n",
    "\n",
    "callbacks = myCallback()"
   ]
  },
  {
   "cell_type": "code",
   "execution_count": 29,
   "id": "restricted-archives",
   "metadata": {},
   "outputs": [],
   "source": [
    "input_shape = X_train.shape[1]"
   ]
  },
  {
   "cell_type": "code",
   "execution_count": 44,
   "id": "capital-found",
   "metadata": {},
   "outputs": [
    {
     "name": "stdout",
     "output_type": "stream",
     "text": [
      "Model: \"sequential_5\"\n",
      "_________________________________________________________________\n",
      "Layer (type)                 Output Shape              Param #   \n",
      "=================================================================\n",
      "dense_13 (Dense)             (None, 32)                608       \n",
      "_________________________________________________________________\n",
      "dense_14 (Dense)             (None, 64)                2112      \n",
      "_________________________________________________________________\n",
      "dense_15 (Dense)             (None, 128)               8320      \n",
      "_________________________________________________________________\n",
      "dense_16 (Dense)             (None, 64)                8256      \n",
      "_________________________________________________________________\n",
      "dense_17 (Dense)             (None, 32)                2080      \n",
      "_________________________________________________________________\n",
      "dense_18 (Dense)             (None, 1)                 33        \n",
      "=================================================================\n",
      "Total params: 21,409\n",
      "Trainable params: 21,409\n",
      "Non-trainable params: 0\n",
      "_________________________________________________________________\n"
     ]
    }
   ],
   "source": [
    "model = keras.Sequential([\n",
    "    layers.Dense(32, activation='sigmoid', input_shape=[input_shape]),\n",
    "    layers.Dense(64, activation='relu'),\n",
    "    layers.Dense(128, activation='relu'),\n",
    "    layers.Dense(64, activation='relu'),\n",
    "    layers.Dense(32, activation='relu'),\n",
    "    layers.Dense(1)\n",
    "])\n",
    "model.summary()"
   ]
  },
  {
   "cell_type": "code",
   "execution_count": 45,
   "id": "turned-tattoo",
   "metadata": {},
   "outputs": [],
   "source": [
    "model.compile(\n",
    "    optimizer='adam',\n",
    "    loss='mae',\n",
    "    metrics=['accuracy'],\n",
    ")"
   ]
  },
  {
   "cell_type": "code",
   "execution_count": 46,
   "id": "posted-mambo",
   "metadata": {},
   "outputs": [
    {
     "name": "stdout",
     "output_type": "stream",
     "text": [
      "Epoch 1/50\n",
      "48/48 [==============================] - 1s 6ms/step - loss: 0.2335 - accuracy: 0.0610 - val_loss: 0.2031 - val_accuracy: 0.0761\n",
      "Epoch 2/50\n",
      "48/48 [==============================] - 0s 4ms/step - loss: 0.1970 - accuracy: 0.0652 - val_loss: 0.2010 - val_accuracy: 0.0702\n",
      "Epoch 3/50\n",
      "48/48 [==============================] - 0s 4ms/step - loss: 0.1942 - accuracy: 0.0664 - val_loss: 0.1998 - val_accuracy: 0.0768\n",
      "Epoch 4/50\n",
      "48/48 [==============================] - 0s 4ms/step - loss: 0.1932 - accuracy: 0.0637 - val_loss: 0.1997 - val_accuracy: 0.0799\n",
      "Epoch 5/50\n",
      "48/48 [==============================] - 0s 4ms/step - loss: 0.1932 - accuracy: 0.0650 - val_loss: 0.1988 - val_accuracy: 0.0782\n",
      "Epoch 6/50\n",
      "48/48 [==============================] - 0s 4ms/step - loss: 0.1918 - accuracy: 0.0655 - val_loss: 0.1998 - val_accuracy: 0.0639\n",
      "Epoch 7/50\n",
      "48/48 [==============================] - 0s 4ms/step - loss: 0.1919 - accuracy: 0.0624 - val_loss: 0.1977 - val_accuracy: 0.0747\n",
      "Epoch 8/50\n",
      "48/48 [==============================] - 0s 4ms/step - loss: 0.1917 - accuracy: 0.0636 - val_loss: 0.1986 - val_accuracy: 0.0826\n",
      "Epoch 9/50\n",
      "48/48 [==============================] - 0s 4ms/step - loss: 0.1915 - accuracy: 0.0639 - val_loss: 0.1982 - val_accuracy: 0.0750\n",
      "Epoch 10/50\n",
      "48/48 [==============================] - 0s 4ms/step - loss: 0.1915 - accuracy: 0.0659 - val_loss: 0.1992 - val_accuracy: 0.0822\n",
      "Epoch 11/50\n",
      "48/48 [==============================] - 0s 4ms/step - loss: 0.1903 - accuracy: 0.0663 - val_loss: 0.1978 - val_accuracy: 0.0695\n",
      "Epoch 12/50\n",
      "48/48 [==============================] - 0s 4ms/step - loss: 0.1904 - accuracy: 0.0638 - val_loss: 0.1995 - val_accuracy: 0.0841\n",
      "Epoch 13/50\n",
      "48/48 [==============================] - 0s 4ms/step - loss: 0.1898 - accuracy: 0.0634 - val_loss: 0.1996 - val_accuracy: 0.0850\n",
      "Epoch 14/50\n",
      "48/48 [==============================] - 0s 4ms/step - loss: 0.1908 - accuracy: 0.0655 - val_loss: 0.1990 - val_accuracy: 0.0628\n",
      "Epoch 15/50\n",
      "48/48 [==============================] - 0s 4ms/step - loss: 0.1903 - accuracy: 0.0608 - val_loss: 0.1977 - val_accuracy: 0.0810\n",
      "Epoch 16/50\n",
      "48/48 [==============================] - 0s 4ms/step - loss: 0.1900 - accuracy: 0.0642 - val_loss: 0.1977 - val_accuracy: 0.0688\n",
      "Epoch 17/50\n",
      "48/48 [==============================] - 0s 4ms/step - loss: 0.1903 - accuracy: 0.0619 - val_loss: 0.1975 - val_accuracy: 0.0806\n",
      "Epoch 18/50\n",
      "48/48 [==============================] - 0s 4ms/step - loss: 0.1893 - accuracy: 0.0670 - val_loss: 0.1979 - val_accuracy: 0.0689\n",
      "Epoch 19/50\n",
      "48/48 [==============================] - 0s 4ms/step - loss: 0.1885 - accuracy: 0.0631 - val_loss: 0.1967 - val_accuracy: 0.0778\n",
      "Epoch 20/50\n",
      "48/48 [==============================] - 0s 4ms/step - loss: 0.1873 - accuracy: 0.0645 - val_loss: 0.1998 - val_accuracy: 0.0853\n",
      "Epoch 21/50\n",
      "48/48 [==============================] - 0s 4ms/step - loss: 0.1889 - accuracy: 0.0667 - val_loss: 0.1971 - val_accuracy: 0.0796\n",
      "Epoch 22/50\n",
      "48/48 [==============================] - 0s 4ms/step - loss: 0.1879 - accuracy: 0.0661 - val_loss: 0.1969 - val_accuracy: 0.0765\n",
      "Epoch 23/50\n",
      "48/48 [==============================] - 0s 4ms/step - loss: 0.1869 - accuracy: 0.0655 - val_loss: 0.1980 - val_accuracy: 0.0698\n",
      "Epoch 24/50\n",
      "48/48 [==============================] - 0s 4ms/step - loss: 0.1898 - accuracy: 0.0602 - val_loss: 0.1980 - val_accuracy: 0.0694\n",
      "Epoch 25/50\n",
      "48/48 [==============================] - 0s 4ms/step - loss: 0.1881 - accuracy: 0.0684 - val_loss: 0.1971 - val_accuracy: 0.0755\n",
      "Epoch 26/50\n",
      "48/48 [==============================] - 0s 4ms/step - loss: 0.1864 - accuracy: 0.0653 - val_loss: 0.1969 - val_accuracy: 0.0700\n",
      "Epoch 27/50\n",
      "48/48 [==============================] - 0s 4ms/step - loss: 0.1881 - accuracy: 0.0645 - val_loss: 0.1972 - val_accuracy: 0.0702\n",
      "Epoch 28/50\n",
      "48/48 [==============================] - 0s 4ms/step - loss: 0.1877 - accuracy: 0.0656 - val_loss: 0.1971 - val_accuracy: 0.0737\n",
      "Epoch 29/50\n",
      "48/48 [==============================] - 0s 4ms/step - loss: 0.1884 - accuracy: 0.0650 - val_loss: 0.1979 - val_accuracy: 0.0733\n",
      "Epoch 30/50\n",
      "48/48 [==============================] - 0s 4ms/step - loss: 0.1848 - accuracy: 0.0627 - val_loss: 0.1971 - val_accuracy: 0.0763\n",
      "Epoch 31/50\n",
      "48/48 [==============================] - 0s 4ms/step - loss: 0.1881 - accuracy: 0.0677 - val_loss: 0.1975 - val_accuracy: 0.0810\n",
      "Epoch 32/50\n",
      "48/48 [==============================] - 0s 4ms/step - loss: 0.1861 - accuracy: 0.0637 - val_loss: 0.1978 - val_accuracy: 0.0773\n",
      "Epoch 33/50\n",
      "48/48 [==============================] - 0s 4ms/step - loss: 0.1880 - accuracy: 0.0643 - val_loss: 0.1970 - val_accuracy: 0.0765\n",
      "Epoch 34/50\n",
      "48/48 [==============================] - 0s 4ms/step - loss: 0.1853 - accuracy: 0.0671 - val_loss: 0.1986 - val_accuracy: 0.0784\n",
      "Epoch 35/50\n",
      "48/48 [==============================] - 0s 4ms/step - loss: 0.1863 - accuracy: 0.0651 - val_loss: 0.1974 - val_accuracy: 0.0783\n",
      "Epoch 36/50\n",
      "48/48 [==============================] - 0s 5ms/step - loss: 0.1868 - accuracy: 0.0663 - val_loss: 0.1988 - val_accuracy: 0.0780\n",
      "Epoch 37/50\n",
      "48/48 [==============================] - 0s 4ms/step - loss: 0.1852 - accuracy: 0.0649 - val_loss: 0.1980 - val_accuracy: 0.0749\n",
      "Epoch 38/50\n",
      "48/48 [==============================] - 0s 4ms/step - loss: 0.1845 - accuracy: 0.0647 - val_loss: 0.1992 - val_accuracy: 0.0678\n",
      "Epoch 39/50\n",
      "48/48 [==============================] - 0s 5ms/step - loss: 0.1842 - accuracy: 0.0614 - val_loss: 0.1989 - val_accuracy: 0.0727\n",
      "Epoch 40/50\n",
      "48/48 [==============================] - 0s 4ms/step - loss: 0.1855 - accuracy: 0.0640 - val_loss: 0.1980 - val_accuracy: 0.0725\n",
      "Epoch 41/50\n",
      "48/48 [==============================] - 0s 4ms/step - loss: 0.1829 - accuracy: 0.0642 - val_loss: 0.1987 - val_accuracy: 0.0720\n",
      "Epoch 42/50\n",
      "48/48 [==============================] - 0s 4ms/step - loss: 0.1852 - accuracy: 0.0668 - val_loss: 0.1976 - val_accuracy: 0.0786\n",
      "Epoch 43/50\n",
      "48/48 [==============================] - 0s 4ms/step - loss: 0.1840 - accuracy: 0.0651 - val_loss: 0.2022 - val_accuracy: 0.0826\n",
      "Epoch 44/50\n",
      "48/48 [==============================] - 0s 4ms/step - loss: 0.1848 - accuracy: 0.0644 - val_loss: 0.1979 - val_accuracy: 0.0720\n",
      "Epoch 45/50\n",
      "48/48 [==============================] - 0s 4ms/step - loss: 0.1837 - accuracy: 0.0668 - val_loss: 0.2021 - val_accuracy: 0.0811\n",
      "Epoch 46/50\n",
      "48/48 [==============================] - 0s 4ms/step - loss: 0.1838 - accuracy: 0.0625 - val_loss: 0.1985 - val_accuracy: 0.0727\n",
      "Epoch 47/50\n",
      "48/48 [==============================] - 0s 4ms/step - loss: 0.1832 - accuracy: 0.0643 - val_loss: 0.1978 - val_accuracy: 0.0761\n",
      "Epoch 48/50\n",
      "48/48 [==============================] - 0s 4ms/step - loss: 0.1829 - accuracy: 0.0683 - val_loss: 0.1984 - val_accuracy: 0.0722\n",
      "Epoch 49/50\n",
      "48/48 [==============================] - 0s 4ms/step - loss: 0.1827 - accuracy: 0.0650 - val_loss: 0.2021 - val_accuracy: 0.0700\n",
      "Epoch 50/50\n",
      "48/48 [==============================] - 0s 4ms/step - loss: 0.1847 - accuracy: 0.0688 - val_loss: 0.1994 - val_accuracy: 0.0722\n"
     ]
    },
    {
     "data": {
      "text/plain": [
       "<tensorflow.python.keras.callbacks.History at 0x11bcb68d908>"
      ]
     },
     "execution_count": 46,
     "metadata": {},
     "output_type": "execute_result"
    }
   ],
   "source": [
    "model.fit(\n",
    "    X_train, y_train,\n",
    "    validation_data=(X_test, y_test),\n",
    "    batch_size=512,\n",
    "    epochs=50,\n",
    ")"
   ]
  },
  {
   "cell_type": "code",
   "execution_count": null,
   "id": "annoying-algebra",
   "metadata": {},
   "outputs": [],
   "source": []
  }
 ],
 "metadata": {
  "kernelspec": {
   "display_name": "Python 3",
   "language": "python",
   "name": "python3"
  },
  "language_info": {
   "codemirror_mode": {
    "name": "ipython",
    "version": 3
   },
   "file_extension": ".py",
   "mimetype": "text/x-python",
   "name": "python",
   "nbconvert_exporter": "python",
   "pygments_lexer": "ipython3",
   "version": "3.7.7"
  }
 },
 "nbformat": 4,
 "nbformat_minor": 5
}
